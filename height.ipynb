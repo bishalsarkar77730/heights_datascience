{
 "cells": [
  {
   "cell_type": "code",
   "execution_count": 1,
   "id": "natural-atmosphere",
   "metadata": {},
   "outputs": [],
   "source": [
    "import matplotlib.pyplot as plt\n",
    "import seaborn as sns\n",
    "import numpy as np\n",
    "import pandas as pd"
   ]
  },
  {
   "cell_type": "code",
   "execution_count": 2,
   "id": "institutional-newfoundland",
   "metadata": {},
   "outputs": [
    {
     "name": "stdout",
     "output_type": "stream",
     "text": [
      "   order               name  height(cm)  Unnamed: 3\n",
      "0      1  George Washington         189         NaN\n",
      "1      2         John Adams         170         NaN\n",
      "2      3   Thomas Jefferson         189         NaN\n",
      "3      4      James Madison         163         NaN\n",
      "4      5       James Monroe         183         NaN\n"
     ]
    }
   ],
   "source": [
    "data = pd.read_csv(\"Book1.csv\")\n",
    "print(data.head())"
   ]
  },
  {
   "cell_type": "code",
   "execution_count": 3,
   "id": "cathedral-center",
   "metadata": {},
   "outputs": [
    {
     "name": "stdout",
     "output_type": "stream",
     "text": [
      "[189 170 189 163 183 171 185 168 173 183 173 173 175 178 183 193 178 173\n",
      " 174 183 183 168 170 178 182 180 183 178 182 188 175 179 183 193 182 183\n",
      " 177 185 188 188 182 185]\n"
     ]
    }
   ],
   "source": [
    "height = np.array(data[\"height(cm)\"])\n",
    "print(height)"
   ]
  },
  {
   "cell_type": "code",
   "execution_count": 4,
   "id": "searching-instruction",
   "metadata": {},
   "outputs": [
    {
     "name": "stdout",
     "output_type": "stream",
     "text": [
      "Mean of heights =  179.73809523809524\n",
      "standard Deviation of height =  6.931843442745892\n",
      "minimum height =  163\n",
      "Maximum height =  193\n",
      "25th percentile =  174.25\n",
      "Median =  182.0\n",
      "75th percentile =  183.0\n"
     ]
    }
   ],
   "source": [
    "print(\"Mean of heights = \", height.mean())\n",
    "print(\"standard Deviation of height = \", height.std())\n",
    "print(\"minimum height = \", height.min())\n",
    "print(\"Maximum height = \", height.max())\n",
    "print(\"25th percentile = \", np.percentile(height, 25))\n",
    "print(\"Median = \", np.median(height))\n",
    "print(\"75th percentile = \", np.percentile(height, 75))"
   ]
  },
  {
   "cell_type": "code",
   "execution_count": 5,
   "id": "exposed-draft",
   "metadata": {},
   "outputs": [
    {
     "data": {
      "image/png": "[encoded data removed]",
      "text/plain": [
       "<Figure size 432x288 with 1 Axes>"
      ]
     },
     "metadata": {},
     "output_type": "display_data"
    }
   ],
   "source": [
    "sns.set()\n",
    "plt.hist(height)\n",
    "plt.title(\"Height Distribution Of Presidents of USA\")\n",
    "plt.xlabel(\"height(cm)\")\n",
    "plt.ylabel(\"number\")\n",
    "plt.show()"
   ]
  },
  {
   "cell_type": "code",
   "execution_count": null,
   "id": "loving-professional",
   "metadata": {},
   "outputs": [],
   "source": []
  }
 ],
 "metadata": {
  "kernelspec": {
   "display_name": "Python 3",
   "language": "python",
   "name": "python3"
  },
  "language_info": {
   "codemirror_mode": {
    "name": "ipython",
    "version": 3
   },
   "file_extension": ".py",
   "mimetype": "text/x-python",
   "name": "python",
   "nbconvert_exporter": "python",
   "pygments_lexer": "ipython3",
   "version": "3.7.9"
  }
 },
 "nbformat": 4,
 "nbformat_minor": 5
}
